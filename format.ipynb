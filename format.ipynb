{
 "cells": [
  {
   "cell_type": "code",
   "execution_count": 1,
   "metadata": {},
   "outputs": [
    {
     "ename": "KeyboardInterrupt",
     "evalue": "",
     "output_type": "error",
     "traceback": [
      "\u001b[0;31m---------------------------------------------------------------------------\u001b[0m",
      "\u001b[0;31mKeyboardInterrupt\u001b[0m                         Traceback (most recent call last)",
      "Cell \u001b[0;32mIn[1], line 1\u001b[0m\n\u001b[0;32m----> 1\u001b[0m \u001b[39mimport\u001b[39;00m \u001b[39mpandas\u001b[39;00m\n\u001b[1;32m      2\u001b[0m \u001b[39mimport\u001b[39;00m \u001b[39mnumpy\u001b[39;00m \u001b[39mas\u001b[39;00m \u001b[39mnp\u001b[39;00m\n\u001b[1;32m      4\u001b[0m tqdm_flag \u001b[39m=\u001b[39m \u001b[39mTrue\u001b[39;00m\n",
      "File \u001b[0;32m~/miniconda3/envs/tf2/lib/python3.8/site-packages/pandas/__init__.py:11\u001b[0m\n\u001b[1;32m      9\u001b[0m \u001b[39mfor\u001b[39;00m dependency \u001b[39min\u001b[39;00m hard_dependencies:\n\u001b[1;32m     10\u001b[0m     \u001b[39mtry\u001b[39;00m:\n\u001b[0;32m---> 11\u001b[0m         \u001b[39m__import__\u001b[39;49m(dependency)\n\u001b[1;32m     12\u001b[0m     \u001b[39mexcept\u001b[39;00m \u001b[39mImportError\u001b[39;00m \u001b[39mas\u001b[39;00m e:\n\u001b[1;32m     13\u001b[0m         missing_dependencies\u001b[39m.\u001b[39mappend(\u001b[39mf\u001b[39m\u001b[39m\"\u001b[39m\u001b[39m{\u001b[39;00mdependency\u001b[39m}\u001b[39;00m\u001b[39m: \u001b[39m\u001b[39m{\u001b[39;00me\u001b[39m}\u001b[39;00m\u001b[39m\"\u001b[39m)\n",
      "File \u001b[0;32m<frozen importlib._bootstrap>:991\u001b[0m, in \u001b[0;36m_find_and_load\u001b[0;34m(name, import_)\u001b[0m\n",
      "File \u001b[0;32m<frozen importlib._bootstrap>:975\u001b[0m, in \u001b[0;36m_find_and_load_unlocked\u001b[0;34m(name, import_)\u001b[0m\n",
      "File \u001b[0;32m<frozen importlib._bootstrap>:671\u001b[0m, in \u001b[0;36m_load_unlocked\u001b[0;34m(spec)\u001b[0m\n",
      "File \u001b[0;32m<frozen importlib._bootstrap_external>:839\u001b[0m, in \u001b[0;36mexec_module\u001b[0;34m(self, module)\u001b[0m\n",
      "File \u001b[0;32m<frozen importlib._bootstrap_external>:934\u001b[0m, in \u001b[0;36mget_code\u001b[0;34m(self, fullname)\u001b[0m\n",
      "File \u001b[0;32m<frozen importlib._bootstrap_external>:1032\u001b[0m, in \u001b[0;36mget_data\u001b[0;34m(self, path)\u001b[0m\n",
      "\u001b[0;31mKeyboardInterrupt\u001b[0m: "
     ]
    }
   ],
   "source": [
    "import pandas\n",
    "import numpy as np\n",
    "\n",
    "tqdm_flag = True\n",
    "try:\n",
    "    from tqdm import tqdm\n",
    "except:\n",
    "    tqdm_flag = False"
   ]
  },
  {
   "cell_type": "code",
   "execution_count": null,
   "metadata": {},
   "outputs": [],
   "source": [
    "# Load file\n",
    "dir = \"/n/holyscratch01/iaifi_lab/rikab/top\"\n",
    "table = pandas.read_hdf(dir + \"/val.h5\", \"table\", stop = 100000)"
   ]
  },
  {
   "cell_type": "code",
   "execution_count": null,
   "metadata": {},
   "outputs": [],
   "source": [
    "X = np.zeros((table.shape[0], 200, 4) , dtype = np.float32)\n",
    "Y = np.zeros((table.shape[0],), dtype = np.int32)\n"
   ]
  },
  {
   "cell_type": "code",
   "execution_count": null,
   "metadata": {},
   "outputs": [
    {
     "name": "stderr",
     "output_type": "stream",
     "text": [
      "100%|██████████| 200/200 [01:03<00:00,  3.15it/s] \n",
      "100%|██████████| 100000/100000 [00:06<00:00, 14595.11it/s]\n"
     ]
    }
   ],
   "source": [
    "Y = table[\"is_signal_new\"]\n",
    "\n",
    "P = np.zeros((table.shape[0], 4) , dtype = np.float32)\n",
    "\n",
    "for i in tqdm(range(200)):\n",
    "\n",
    "\n",
    "    ys = table[\"is_signal_new\"]\n",
    "\n",
    "    # pt\n",
    "    X[:,i,0] = np.sqrt(np.square(table[\"PX_%d\" % i]) + np.square(table[\"PY_%d\" % i]))\n",
    "    mask = X[:,i,0] > 0\n",
    "    temp = table[table[\"E_%d\" % i]> 0]\n",
    "\n",
    "    X[mask,i,1] = 0.5 * np.log(  np.divide( np.add(temp[\"E_%d\" % i] , temp[\"PZ_%d\" % i]) , np.subtract(temp[\"E_%d\" % i] , temp[\"PZ_%d\" % i])  ) )\n",
    "    X[mask,i,2] = np.arctan2(temp[\"PY_%d\" % i] ,temp[\"PX_%d\" % i])\n",
    "\n",
    "    P[:,0] = P[:,0] + table[\"E_%d\" % i]\n",
    "    P[:,1] = P[:,1] + table[\"PX_%d\" % i]\n",
    "    P[:,2] = P[:,2] + table[\"PY_%d\" % i]\n",
    "    P[:,3] = P[:,3] + table[\"PZ_%d\" % i]\n",
    "\n",
    "M = np.sqrt(P[:,0]**2 - P[:,1]**2 - P[:,2]**2 - P[:,3]**2)\n",
    "\n",
    "for i,x in enumerate(tqdm(X)):\n",
    "    mask=x[:,0]>0\n",
    "    y_avg =np.average(x[mask,1:3],weights=x[mask,0],axis=0)\n",
    "    x[mask,1:3]-=y_avg\n",
    "    x[mask,1:3] = x[mask,1:3]"
   ]
  },
  {
   "cell_type": "code",
   "execution_count": null,
   "metadata": {},
   "outputs": [
    {
     "name": "stdout",
     "output_type": "stream",
     "text": [
      "(50190,)\n"
     ]
    },
    {
     "data": {
      "image/png": "[encoded data removed]",
      "text/plain": [
       "<Figure size 640x480 with 1 Axes>"
      ]
     },
     "metadata": {},
     "output_type": "display_data"
    }
   ],
   "source": [
    "import matplotlib.pyplot as plt\n",
    "\n",
    "plt.hist(M[Y ==0])\n",
    "plt.hist(M[Y ==1])\n",
    "print(Y[Y == 1].shape)"
   ]
  },
  {
   "cell_type": "code",
   "execution_count": null,
   "metadata": {},
   "outputs": [
    {
     "name": "stdout",
     "output_type": "stream",
     "text": [
      "(403000, 201, 4)\n"
     ]
    },
    {
     "name": "stderr",
     "output_type": "stream",
     "text": [
      "/tmp/ipykernel_2227948/4150765105.py:12: RuntimeWarning: invalid value encountered in true_divide\n",
      "  return np.nan_to_num(np.arctanh(p[:,3] / p3))\n",
      "/tmp/ipykernel_2227948/4150765105.py:15: RuntimeWarning: invalid value encountered in true_divide\n",
      "  return np.nan_to_num(np.arctan(p[:,2] / p[:,1]))\n",
      "/tmp/ipykernel_2227948/4150765105.py:18: RuntimeWarning: invalid value encountered in sqrt\n",
      "  return np.sqrt(p[:,0]**2 - p[:,1]**2 - p[:,2]**2 - p[:,3]**2)\n"
     ]
    },
    {
     "ename": "KeyboardInterrupt",
     "evalue": "",
     "output_type": "error",
     "traceback": [
      "\u001b[0;31m---------------------------------------------------------------------------\u001b[0m",
      "\u001b[0;31mKeyboardInterrupt\u001b[0m                         Traceback (most recent call last)",
      "Cell \u001b[0;32mIn[9], line 31\u001b[0m\n\u001b[1;32m     27\u001b[0m \u001b[39mprint\u001b[39m(X\u001b[39m.\u001b[39mshape)\n\u001b[1;32m     28\u001b[0m \u001b[39m# if tqdm_flag:\u001b[39;00m\n\u001b[1;32m     29\u001b[0m \u001b[39m#     dataset = tqdm(dataset)\u001b[39;00m\n\u001b[0;32m---> 31\u001b[0m \u001b[39mfor\u001b[39;00m (i,event) \u001b[39min\u001b[39;00m \u001b[39menumerate\u001b[39m(dataset):\n\u001b[1;32m     33\u001b[0m     p \u001b[39m=\u001b[39m event[\u001b[39m1\u001b[39m]\u001b[39m.\u001b[39mreshape((\u001b[39m-\u001b[39m\u001b[39m1\u001b[39m,\u001b[39m4\u001b[39m))\n\u001b[1;32m     34\u001b[0m     Y[i] \u001b[39m=\u001b[39m event[\u001b[39m2\u001b[39m][\u001b[39m1\u001b[39m]\n",
      "File \u001b[0;32m~/miniconda3/envs/tf2/lib/python3.8/site-packages/h5py/_hl/dataset.py:695\u001b[0m, in \u001b[0;36mDataset.__iter__\u001b[0;34m(self)\u001b[0m\n\u001b[1;32m    693\u001b[0m     \u001b[39mraise\u001b[39;00m \u001b[39mTypeError\u001b[39;00m(\u001b[39m\"\u001b[39m\u001b[39mCan\u001b[39m\u001b[39m'\u001b[39m\u001b[39mt iterate over a scalar dataset\u001b[39m\u001b[39m\"\u001b[39m)\n\u001b[1;32m    694\u001b[0m \u001b[39mfor\u001b[39;00m i \u001b[39min\u001b[39;00m \u001b[39mrange\u001b[39m(shape[\u001b[39m0\u001b[39m]):\n\u001b[0;32m--> 695\u001b[0m     \u001b[39myield\u001b[39;00m \u001b[39mself\u001b[39;49m[i]\n",
      "File \u001b[0;32mh5py/_objects.pyx:54\u001b[0m, in \u001b[0;36mh5py._objects.with_phil.wrapper\u001b[0;34m()\u001b[0m\n",
      "File \u001b[0;32mh5py/_objects.pyx:55\u001b[0m, in \u001b[0;36mh5py._objects.with_phil.wrapper\u001b[0;34m()\u001b[0m\n",
      "File \u001b[0;32m~/miniconda3/envs/tf2/lib/python3.8/site-packages/h5py/_hl/dataset.py:824\u001b[0m, in \u001b[0;36mDataset.__getitem__\u001b[0;34m(self, args, new_dtype)\u001b[0m\n\u001b[1;32m    822\u001b[0m mspace \u001b[39m=\u001b[39m h5s\u001b[39m.\u001b[39mcreate_simple(selection\u001b[39m.\u001b[39mmshape)\n\u001b[1;32m    823\u001b[0m fspace \u001b[39m=\u001b[39m selection\u001b[39m.\u001b[39mid\n\u001b[0;32m--> 824\u001b[0m \u001b[39mself\u001b[39;49m\u001b[39m.\u001b[39;49mid\u001b[39m.\u001b[39;49mread(mspace, fspace, arr, mtype, dxpl\u001b[39m=\u001b[39;49m\u001b[39mself\u001b[39;49m\u001b[39m.\u001b[39;49m_dxpl)\n\u001b[1;32m    826\u001b[0m \u001b[39m# Patch up the output for NumPy\u001b[39;00m\n\u001b[1;32m    827\u001b[0m \u001b[39mif\u001b[39;00m arr\u001b[39m.\u001b[39mshape \u001b[39m==\u001b[39m ():\n",
      "\u001b[0;31mKeyboardInterrupt\u001b[0m: "
     ]
    }
   ],
   "source": [
    "dataset = table[\"table\"]\n",
    "# [:5000]\n",
    "\n",
    "\n",
    "\n",
    "def pT(p):\n",
    "    return np.sqrt(p[:,1]**2 + p[:,2]**2)\n",
    "\n",
    "def psuedorapidity(p):\n",
    "\n",
    "    p3 = np.sqrt(p[:,1]**2 + p[:,2]**2 + p[:,3]**2)\n",
    "    return np.nan_to_num(np.arctanh(p[:,3] / p3))\n",
    "\n",
    "def phi(p):\n",
    "    return np.nan_to_num(np.arctan(p[:,2] / p[:,1]))\n",
    "\n",
    "def m(p):\n",
    "    return np.sqrt(p[:,0]**2 - p[:,1]**2 - p[:,2]**2 - p[:,3]**2)\n",
    "\n",
    "# print(dataset[5434][1].reshape((-1,4)))\n",
    "\n",
    "\n",
    "X = np.zeros((dataset.shape[0], int(dataset[0][1].shape[0] / 4), 4))\n",
    "Y = np.zeros((dataset.shape[0],), dtype=np.int32)\n",
    "\n",
    "\n",
    "print(X.shape)\n",
    "# if tqdm_flag:\n",
    "#     dataset = tqdm(dataset)\n",
    "\n",
    "for (i,event) in enumerate(dataset):\n",
    "\n",
    "    p = event[1].reshape((-1,4))\n",
    "    Y[i] = event[2][1]\n",
    "    X[i,:,0] = pT(p)\n",
    "    X[i,:,1] = psuedorapidity(p)\n",
    "    X[i,:,2] = phi(p)\n",
    "    X[i,:,3] = m(p)\n",
    "\n",
    "\n"
   ]
  },
  {
   "cell_type": "code",
   "execution_count": null,
   "metadata": {},
   "outputs": [],
   "source": [
    "# validate\n",
    "ms = np.zeros_like(Y[:5000], dtype = np.float32)\n",
    "for (i,event) in enumerate(dataset[:5000]):\n",
    "\n",
    "    p = event[1].reshape((-1,4))\n",
    "    ms[i] = m(np.sum(p, axis = 0)[np.newaxis, :])"
   ]
  },
  {
   "cell_type": "code",
   "execution_count": null,
   "metadata": {},
   "outputs": [
    {
     "data": {
      "text/plain": [
       "<matplotlib.lines.Line2D at 0x14777024f490>"
      ]
     },
     "execution_count": 25,
     "metadata": {},
     "output_type": "execute_result"
    },
    {
     "data": {
      "image/png": "[encoded data removed]",
      "text/plain": [
       "<Figure size 640x480 with 1 Axes>"
      ]
     },
     "metadata": {},
     "output_type": "display_data"
    }
   ],
   "source": [
    "import matplotlib.pyplot as plt\n",
    "\n",
    "plt.hist(ms[Y[:5000] ==0])\n",
    "plt.hist(ms[Y[:5000] ==1])\n",
    "plt.axvline(175)\n",
    "\n",
    "# print(X[:,:,3].flatten())\n",
    "\n",
    "# plt.hist(X[:,:,3].flatten(), range=(0,1))\n",
    "# plt.yscale(\"log\")"
   ]
  },
  {
   "cell_type": "code",
   "execution_count": null,
   "metadata": {},
   "outputs": [],
   "source": [
    "np.savez(dir + \"/val.npz\", X[:1000],Y[:1000])"
   ]
  },
  {
   "cell_type": "code",
   "execution_count": null,
   "metadata": {},
   "outputs": [],
   "source": [
    "X_test, Y_test = np.load(dir + \"/val.npz\", allow_pickle=True)"
   ]
  },
  {
   "cell_type": "code",
   "execution_count": null,
   "metadata": {},
   "outputs": [
    {
     "ename": "TypeError",
     "evalue": "string indices must be integers",
     "output_type": "error",
     "traceback": [
      "\u001b[0;31m---------------------------------------------------------------------------\u001b[0m",
      "\u001b[0;31mTypeError\u001b[0m                                 Traceback (most recent call last)",
      "Cell \u001b[0;32mIn[11], line 2\u001b[0m\n\u001b[1;32m      1\u001b[0m \u001b[39mimport\u001b[39;00m \u001b[39mmatplotlib\u001b[39;00m\u001b[39m.\u001b[39;00m\u001b[39mpyplot\u001b[39;00m \u001b[39mas\u001b[39;00m \u001b[39mplt\u001b[39;00m\n\u001b[0;32m----> 2\u001b[0m plt\u001b[39m.\u001b[39mhist(X_test[Y_test \u001b[39m==\u001b[39;49m \u001b[39m1\u001b[39;49m,\u001b[39m3\u001b[39;49m])\n",
      "\u001b[0;31mTypeError\u001b[0m: string indices must be integers"
     ]
    },
    {
     "ename": "",
     "evalue": "",
     "output_type": "error",
     "traceback": [
      "\u001b[1;31mThe Kernel crashed while executing code in the the current cell or a previous cell. Please review the code in the cell(s) to identify a possible cause of the failure. Click <a href='https://aka.ms/vscodeJupyterKernelCrash'>here</a> for more info. View Jupyter <a href='command:jupyter.viewOutput'>log</a> for further details."
     ]
    }
   ],
   "source": [
    "plt.hist(X_test[Y_test == 1,3])"
   ]
  },
  {
   "cell_type": "code",
   "execution_count": null,
   "metadata": {},
   "outputs": [],
   "source": []
  }
 ],
 "metadata": {
  "kernelspec": {
   "display_name": "tf2",
   "language": "python",
   "name": "python3"
  },
  "language_info": {
   "codemirror_mode": {
    "name": "ipython",
    "version": 3
   },
   "file_extension": ".py",
   "mimetype": "text/x-python",
   "name": "python",
   "nbconvert_exporter": "python",
   "pygments_lexer": "ipython3",
   "version": "3.8.13"
  },
  "orig_nbformat": 4
 },
 "nbformat": 4,
 "nbformat_minor": 2
}
